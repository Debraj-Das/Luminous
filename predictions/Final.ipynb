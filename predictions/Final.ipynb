{
 "cells": [
  {
   "cell_type": "code",
   "execution_count": 1,
   "id": "c65c150d-5ad6-4b41-bf4b-0bc4898e71c4",
   "metadata": {},
   "outputs": [],
   "source": [
    "import pandas as pd\n",
    "import joblib\n",
    "\n",
    "model = joblib.load('model.pkl')\n",
    "scaler = joblib.load('scaler.pkl')"
   ]
  },
  {
   "cell_type": "code",
   "execution_count": 2,
   "id": "b07dce6d-24b9-4d11-8886-287f76e64d3d",
   "metadata": {},
   "outputs": [],
   "source": [
    "def predict_new_data(send_date_str):\n",
    "    # Convert the user input to datetime and extract features\n",
    "    input_df = pd.DataFrame([send_date_str], columns=['SendDate'])\n",
    "    input_df['SendDate'] = pd.to_datetime(input_df['SendDate'])\n",
    "    input_df['Hour'] = input_df['SendDate'].dt.hour\n",
    "    input_df['Day'] = input_df['SendDate'].dt.day\n",
    "    input_df['Month'] = input_df['SendDate'].dt.month\n",
    "    \n",
    "    # Determine if it's daytime or nighttime\n",
    "    # input_df['is_daytime'] = input_df['Hour'].apply(lambda x: 1 if 6 <= x <= 18 else 0)\n",
    "    \n",
    "    # Preprocess the input\n",
    "    input_scaled = scaler.transform(input_df[['Hour', 'Day', 'Month']])\n",
    "    \n",
    "    # Predict using the trained model\n",
    "    prediction = model.predict(input_scaled)\n",
    "    \n",
    "    return prediction"
   ]
  },
  {
   "cell_type": "code",
   "execution_count": 3,
   "id": "3d4a3843-1c85-40a8-80ee-df1d8861eb23",
   "metadata": {},
   "outputs": [
    {
     "name": "stdout",
     "output_type": "stream",
     "text": [
      "Predicted Solar Power (kW): 492.72, Consumption Value (kW): 0.41, Price: 8.20\n"
     ]
    }
   ],
   "source": [
    "while True:\n",
    "    user_input = input(\"Enter a datetime (format: 'YYYY-MM-DD HH:MM') or 'exit' to quit: \")\n",
    "    \n",
    "    if user_input.lower() == 'exit':\n",
    "        break\n",
    "    \n",
    "    try:\n",
    "        # Predict based on user input\n",
    "        predicted_values = predict_new_data(user_input)\n",
    "        print(f\"Predicted Solar Power (kW): {predicted_values[0][0]:.2f}, \"\n",
    "              f\"Consumption Value (kW): {predicted_values[0][1]:.2f}, \"\n",
    "              f\"Price: {predicted_values[0][2]:.2f}\")\n",
    "    except Exception as e:\n",
    "        print(f\"Error: {e}. Please enter a valid datetime in 'YYYY-MM-DD HH:MM' format.\")"
   ]
  },
  {
   "cell_type": "code",
   "execution_count": null,
   "id": "6b335263-70b0-4abd-98c1-b08944c31490",
   "metadata": {},
   "outputs": [],
   "source": []
  }
 ],
 "metadata": {
  "kernelspec": {
   "display_name": ".venv",
   "language": "python",
   "name": "python3"
  },
  "language_info": {
   "codemirror_mode": {
    "name": "ipython",
    "version": 3
   },
   "file_extension": ".py",
   "mimetype": "text/x-python",
   "name": "python",
   "nbconvert_exporter": "python",
   "pygments_lexer": "ipython3",
   "version": "3.11.3"
  }
 },
 "nbformat": 4,
 "nbformat_minor": 5
}
